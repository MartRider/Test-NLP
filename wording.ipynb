{
 "metadata": {
  "language_info": {
   "codemirror_mode": {
    "name": "ipython",
    "version": 3
   },
   "file_extension": ".py",
   "mimetype": "text/x-python",
   "name": "python",
   "nbconvert_exporter": "python",
   "pygments_lexer": "ipython3",
   "version": "3.7.6-final"
  },
  "orig_nbformat": 2,
  "kernelspec": {
   "name": "python_defaultSpec_1599102569550",
   "display_name": "Python 3.7.6 64-bit ('base': conda)"
  }
 },
 "nbformat": 4,
 "nbformat_minor": 2,
 "cells": [
  {
   "cell_type": "code",
   "execution_count": 3,
   "metadata": {},
   "outputs": [],
   "source": [
    "#Import Python library\n",
    "\n",
    "import numpy as np\n",
    "import pandas as pd\n",
    "from pythainlp.tokenize import word_tokenize\n",
    "from pythainlp.spell import correct"
   ]
  },
  {
   "cell_type": "code",
   "execution_count": 4,
   "metadata": {},
   "outputs": [],
   "source": [
    "#Extract file in txt into list\n",
    "\n",
    "#High Negative keyword\n",
    "high_neg_pd = pd.read_csv(\"highneg.txt\", sep = \"/n\", header = None)\n",
    "\n",
    "high_neg = np.array(high_neg_pd)\n",
    "\n",
    "#Negative keyword\n",
    "neg_pd = pd.read_csv(\"neg.txt\", sep = \"/n\", header = None)\n",
    "\n",
    "neg = np.array(neg_pd)\n",
    "\n",
    "#Neutral keyword\n",
    "neutral_pd = pd.read_csv(\"neutral.txt\", sep = \"/n\", header = None)\n",
    "\n",
    "neutral = np.array(neutral_pd)\n",
    "\n",
    "#Positive keyword\n",
    "pos_pd = pd.read_csv(\"pos.txt\", sep = \"/n\", header = None)\n",
    "\n",
    "pos = np.array(pos_pd)\n",
    "\n",
    "#High Positive keyword\n",
    "high_pos_pd = pd.read_csv(\"highpos.txt\", sep = \"/n\", header = None)\n",
    "\n",
    "high_pos = np.array(high_pos_pd)"
   ]
  },
  {
   "cell_type": "code",
   "execution_count": 2,
   "metadata": {},
   "outputs": [],
   "source": [
    "#Test file for test model\n",
    "#Not use in production\n",
    "word_file = pd.read_csv(\"text_test.csv\")"
   ]
  },
  {
   "cell_type": "code",
   "execution_count": 3,
   "metadata": {
    "tags": []
   },
   "outputs": [
    {
     "output_type": "stream",
     "name": "stdout",
     "text": "{'Worawut Wutpradis\\xa0': 'เฟซปลอม โกงมือถือ แจ้งระงับไป มันบอกไม่ผิดกฏ คนด่าหยาบคายไม่ผิด พอเราจะประจานมัน เฟซมันบอกเราผิดกฏจะโดนระงับบัญชี\\xa0', 'Hathai Chanyanupap\\xa0': 'Chuda Lee อ่านได้2แผ่น แล้วเหนื่อย แต่คิดว่าดี55555\\xa0', 'Rinma Linma Malin\\xa0': 'Cho S น้องสาวอ่านอันนี้คับบบ\\xa0', 'Porntep Seedang': 'ขอทราบเป็นไอดีไลน์สะดวกไหมคะ เจ้าหน้าที่โทรไลน์ไปหาค่ะ\\xa0', 'Bumbim Poonphisa': 'รบกวนขอทราบชื่อเพจเฟสบุ๊ก ชื่อคุณลูกค้าและเบอร์ติดต่อกลับ ทางเจ้าหน้าทีจะติดต่อเข้าไป เพื่อแนะนำแพ็คเกจที่เหมาะสมกับธุรกิจ ได้ตรงตามความต้องการค่ะ\\xa0', 'Donuttw Pinsuwan': 'ค่ะ ประสานงานฝ่ายที่เกี่ยวข้องให้นะคะ\\xa0', 'ฅนหัวโบราณ ฅนหัวโบราณ': 'เรามีแพคเกจอยู่หลายแบบทั้งแบบ Business และ Ecommerce ที่สามารถขายสินค้าผ่านเว็บไซต์ได้ ไม่ทราบว่าความต้องการของท่านลูกค้าเป็นแบบไหนคะ\\xa0', 'Nisara Mini\\xa0': 'Nitjawan Wianglo แน่นหน่อยแต่มีประโยชน์ เหมือนเบียร์อ่ะแหละ\\xa0', 'Vajirawich Wongpuvarak\\xa0': 'Ae Viriyasiri ยาวไปอะ เก็วโควต้าอ่านหนังสือสวดมนต์\\xa0', 'Pairpear PairPear\\xa0': 'Nat Nathaniche นัดได้วันนี้ว่าง lol\\xa0', 'Chalatip Sakonchaijaroen': 'เจ้าหน้าที่จะติดต่อกลับไปตามเบอร์โทรที่แจ้งมานะคะ ขอขอบพระคุณที่สนใจบริการของ ITOPPLUS ค่ะ\\xa0', 'Laksanakorn Sawasdikool': 'สำหรับ Google Marketing ทางเรามีผู้เชี่ยวชาญที่ผ่านการรับรองจาก Google ทุกคน และทางเจ้าหน้าที่ของเราจะดูแลและปรับรูปแบบโฆษณาให้เหมาะสมกับของธุรกิจลูกค้าค่ะ\\xa0', 'Pawee Vee Kongcheep\\xa0': 'Lalita Chockviboonsuk สนใจไปเรียน digital marketing มั้ยล่ะ พอมีส่วนลดอยู่\\xa0', 'นาตาชา กิจจารักษ์': 'การทำโฆษณาผ่านGoogle เป็นการทำการตลาดออนไลน์เพื่อเพิ่มประสิทธิภาพในธุรกิจของทางลูกค้า โดยทางเรามีผู้เชี่ยวชาญที่ผ่านการรับรองจาก Google ทุกคน และทางเจ้าหน้าที่ของเราจะปรับรูปแบบโฆษณาให้เหมาะสมกับของธุรกิจลูกค้าค่ะ\\xa0', 'Sounlong Sreng': 'การทำโฆษณาผ่านGoogle เป็นการทำการตลาดออนไลน์เพื่อเพิ่มประสิทธิภาพในธุรกิจของทางลูกค้า โดยทางเรามีผู้เชี่ยวชาญที่ผ่านการรับรองจาก Google ทุกคน และทางเจ้าหน้าที่ของเราจะปรับรูปแบบโฆษณาให้เหมาะสมกับของธุรกิจลูกค้าค่ะ\\xa0', 'แบงค์ พงศ์เทวัญ\\xa0': 'Canan Canan Canan ยาวไปไม่อ่าน\\xa0', 'Pattanasak Sukontasit': 'สวัสดีค่ะ ไอท้อปพลัส ยินดีให้บริการ ไม่ทราบว่าคุณ Pattanasak Top Sukontasit ต้องการสอบถามเกียวกับข้อมูลด้านใดคะ รบกวนแจ้งรายละเอียด หรือแจ้งชื่อ และเบอร์ติดต่อ เพื่อที่ทางเจ้าหน้าที่จะได้ติดต่อกลับไปเพื่อให้ข้อมูลเพิ่มเติม ขอบคุณค่ะ\\xa0', 'Wi Wisanbannawit Tzanis\\xa0': 'Algorithm ของไอจีอันนี้อัฟเดตเมื่อไหร่คะ เพราะมันมันเปลี่ยนบ่อยมากๆๆๆ\\xa0', 'Peach Buathongsri\\xa0': 'Nuttapong Boonsorn Nuk Arroonngamwongs มีปาโยช ไม่มากก็น้อย\\xa0', 'Wiroon Khamniphat\\xa0': 'ใน TikTok Ads มี Catalog Sales ด้วยเหรอครับ\\xa0', 'Jaytiss Chayutpong\\xa0': 'ขอบคุนครับ วันนี้หยกเรียน เดวหยกมาสอนได้\\xa0', 'Thavatchai M Intharuek\\xa0': 'ดีอ่ะ\\xa0', 'Bimbim Patchrada\\xa0': 'Issaree Boonsanong น่าร้ากกกกกก\\xa0', 'Paii Woranawin\\xa0': 'Muk Karnjanapisan มีปาโหยดกับเจ้าหรือไม่\\xa0', 'Issaree Boonsanong\\xa0': 'Bimbim Patchrada สำหรับแม่ค้ามือใหม่ค่ะ\\xa0', 'าลัย วัน วาน\\xa0': 'โอ้โห ทางผู้ใหญ่ท่านใด มีใจทำให้ลูกค้าขนาดนี้ ทางเราได้ศึกษา การเขียนและแก้ไขเวปไซต์ตามที่ทางไอทอปพลัสสอนมา จากความรู้เดิม ที่เรามีเพียงน้อยนิด เราได้ทำตาม ทางท่านผู้สอนอธิบาย ตอนนี้ความรู้ ของเรา ความเข้าใจของเรา มีถึง มากมาย ดีใจมากๆ เพราะเราสามารถเอาความรู้ของท่านผู้สอน สอนมา มาปรับปรุงเพิ่มเติม เพื่อหารายได้จากลูกค้าของเราได้มากขึ้นแน่นอน ฝากขอขอบพระคุณทางท่านผู้ใหญ่ ของทาง Itopplus ที่มีความใส่ใจทำให้ลูกค้าอย่างดี ทางเรา ต้องติดต่อกับบุคคลมากมาย ทางเราจะแนะนำท่านอื่นๆ ไปเป็นลูกค้า กับทางท่านแน่นอน และอีกอย่าง ที่สำคัญที่สุด เวลามีปัญหา โทรไปสอบถาม พนักงาน ของท่าน ไม่ว่าจะเป็น คุณหนิง คุณมาย ได้อธิบาย หลายๆเรื่อง ที่เรามีปัญหา และสอบถาม ได้อย่างกระจ่างชัดเจน และน้ำเสียงสุภาพอย่างมาก (ทางท่านผู้ใหญ่ทางนั้นคงดูแลมาอย่างดี ) ขอขอบพระคุณอีกครั้งครับผม', 'Kingpaii Chanya\\xa0': 'ชอบบทความนี้ค่ะ ดีมาก 👏🏼\\xa0', 'ธวัช สีปะโค': 'สวัสดีค่ะ ไอท้อปพลัส ยินดีให้บริการ ไม่ทราบว่าคุณ ธวัช สีปะโค ต้องการสอบถามเกียวกับข้อมูลด้านใดคะ รบกวนแจ้งรายละเอียด หรือแจ้งชื่อ และเบอร์ติดต่อ เพื่อที่ทางเจ้าหน้าที่จะได้ติดต่อกลับไปเพื่อให้ข้อมูลเพิ่มเติม ขอบคุณค่ะ\\xa0', 'Kritsana Pongsanthia': 'ทางเราให้บริการด้านจัดทำเว็บไซต์และให้บริการด้านการตลาดออนไลน์ค่ะ\\xa0', 'Jenny Pitcha': 'สามารถเเจ้งชื่อเเละเบอร์โทรเพื่อให้ทางเจ้าหน้าที่ตอบกลับได้นะคะ\\xa0', 'Oumaporn Boonsathienwong\\xa0': 'สนใจค่าาา\\xa0'}\n"
    }
   ],
   "source": [
    "#Not use in production\n",
    "\n",
    "word_file_2 = np.array(word_file)\n",
    "\n",
    "word_file_3 = dict(word_file_2)\n",
    "\n",
    "print(word_file_3)"
   ]
  },
  {
   "cell_type": "code",
   "execution_count": 17,
   "metadata": {
    "tags": []
   },
   "outputs": [
    {
     "output_type": "stream",
     "name": "stdout",
     "text": "[['เฟซ', 'ปลอม', 'โกง', 'มือปืน', 'แจ้ง', 'ระงับ', 'ไป', 'มัน', 'บอก', 'ไม่', 'ผิด', 'กฏ', 'คน', 'ด่า', 'หยาบคาย', 'ไม่', 'ผิด', 'พอ', 'เรา', 'จะ', 'ประจาน', 'มัน', 'เฟซ', 'มัน', 'บอก', 'เรา', 'ผิด', 'กฏ', 'จะ', 'โดน', 'ระงับ', 'บัญชี'], ['Chuda', 'Lee', 'อ่าน', 'ได้', '2', 'แผ่น', 'แล้ว', 'เหนื่อย', 'แต่', 'คิด', 'ว่า', 'ดี', '55555'], ['Cho', 'ใน', 'ท้องสาว', 'อ่าน', 'วันนี้', 'คับ', 'บน'], ['ขอ', 'ทราบ', 'เป็น', 'ไอ', 'ดี', 'ไลน์', 'สะดวก', 'ไหม', 'คะ', 'เจ้าหน้าที่', 'โทร', 'ไลน์', 'ไป', 'ค่ะ'], ['รบกวน', 'ขอ', 'ทราบ', 'ชื่อ', 'เพจ', 'เฟส', 'บุ๊ก', 'ชื่อ', 'คุณ', 'ลูกค้า', 'และ', 'เบอร์', 'ติดต่อ', 'กลับ', 'ทาง', 'เจ้าหน้า', 'ที', 'จะ', 'ติดต่อ', 'เข้า', 'เพื่อ', 'แนะนำ', 'แพ็คเกจ', 'ที่', 'เหมาะสม', 'กับ', 'ธุรกิจ', 'ได้', 'ตรง', 'ตาม', 'ความต้องการ', 'ค่ะ'], ['ค่ะ', 'ประสานงาน', 'ฝ่าย', 'ที่', 'เกี่ยวข้อง', 'ให้', 'มะคะ'], ['เรา', 'มี', 'แพคเกจ', 'อยู่', 'หลาย', 'แบบ', 'ทั้ง', 'แบบ', 'Business', 'และ', 'Ecommerce', 'ที่', 'สามารถ', 'ขาย', 'สินค้า', 'ผ่าน', 'เว็บไซต์', 'ได้', 'ไม่', 'ทราบ', 'ว่า', 'ความต้องการ', 'ของ', 'ท่าน', 'ลูกค้า', 'เป็น', 'แบบ', 'ไห', 'นะ'], ['Nitjawan', 'Wianglo', 'แน่น', 'หน่อย', 'แต่', 'ประโยชน์', 'เหมือน', 'เบียร์', 'อ่ะ', 'แหละ'], ['ใน', 'Viriyasiri', 'ยาว', 'ไป', 'อะ', 'เก็บ', 'โควตา', 'อ่านหนังสือ', 'สวดมนต์'], ['Nat', 'Nathaniche', 'นัด', 'ได้', 'วันนี้', 'ว่าง', 'lol'], ['เจ้าหน้า', 'ที่', 'ติดต่อ', 'กลับ', 'ไป', 'ตาม', 'เบอร์', 'โทร', 'ที่ตั้ง', 'มา', 'มะคะ', 'ขอ', 'ขอบพระคุณ', 'ที่', 'สนใจ', 'บริการ', 'ของ', 'ITOPPLUS', 'ค่ะ'], ['สำหรับ', 'Google', 'Marketing', 'ทาง', 'เรา', 'มี', 'ผู้เชี่ยวชาญ', 'ที่', 'ผ่าน', 'การ', 'รับรอง', 'จาก', 'Google', 'ทุกหน', 'และ', 'ทาง', 'เจ้าหน้าที่', 'ของ', 'เรา', 'จะ', 'ดูแล', 'และ', 'ปรับ', 'รูปแบบ', 'โฆษณา', 'ให้', 'เหมาะสม', 'กับ', 'ของ', 'ธุรกิจ', 'ลูกค้า', 'ค่ะ'], ['Lalita', 'Chockviboonsuk', 'สนใจ', 'ไป', 'เรียน', 'digital', 'marketing', 'มั้ย', 'ล่ะ', 'พอ', 'มี', 'ส่วนลด', 'อยู่'], ['การ', 'ทำ', 'โฆษณา', 'ผ่าน', 'Google', 'เป็นไร', 'ทำ', 'วางตลาด', 'ออนไลน์', 'เพื่อ', 'เพิ่มประสิทธิภาพ', 'ใน', 'ธุรกิจ', 'ของ', 'ทาง', 'ลูกค้า', 'โดย', 'ทาง', 'เรา', 'มี', 'ผู้เชี่ยวชาญ', 'ที่', 'ผ่าน', 'การ', 'รับรอง', 'จาก', 'Google', 'ทุกหน', 'และ', 'ทาง', 'เจ้าหน้าที่', 'ของ', 'เรา', 'จะ', 'ปรับ', 'รูปแบบ', 'โฆษณา', 'ให้', 'เหมาะสม', 'กับ', 'ของ', 'ธุรกิจ', 'ลูกค้า', 'ค่ะ'], ['การ', 'ทำ', 'โฆษณา', 'ผ่าน', 'Google', 'เป็นไร', 'ทำ', 'วางตลาด', 'ออนไลน์', 'เพื่อ', 'เพิ่มประสิทธิภาพ', 'ใน', 'ธุรกิจ', 'ของ', 'ทาง', 'ลูกค้า', 'โดย', 'ทาง', 'เรา', 'มี', 'ผู้เชี่ยวชาญ', 'ที่', 'ผ่าน', 'การ', 'รับรอง', 'จาก', 'Google', 'ทุกหน', 'และ', 'ทาง', 'เจ้าหน้าที่', 'ของ', 'เรา', 'จะ', 'ปรับ', 'รูปแบบ', 'โฆษณา', 'ให้', 'เหมาะสม', 'กับ', 'ของ', 'ธุรกิจ', 'ลูกค้า', 'ค่ะ'], ['Canan', 'Canan', 'Canan', 'ยาว', 'ไป', 'ไม่', 'อ่าน'], ['สวัสดี', 'ค่ะ', 'ไอ', 'ท้อป', 'พลัส', 'ยินดี', 'ให้บริการ', 'ไม่', 'ทราบ', 'ว่า', 'คุณ', 'Pattanasak', 'Top', 'Sukontasit', 'ต้องการ', 'สอบถาม', 'เกีย', 'วง', 'กับ', 'ข้อมูล', 'ด้าน', 'ใด', 'คะ', 'รบกวน', 'แจ้ง', 'รายละเอียด', 'หรือ', 'แจ้ง', 'ชื่อ', 'และ', 'เบอร์', 'ติดต่อ', 'เพื่อ', 'ที่ทาง', 'เจ้าหน้า', 'ที่', 'ได้', 'ติดต่อ', 'กลับ', 'ไป', 'เพื่อให้', 'ข้อมูล', 'เพิ่มเติม', 'ขอบคุณ', 'ค่ะ'], ['Algorithm', 'ของ', 'ไอ', 'จี', 'วันนี้', 'อัฟ', 'เดต', 'เมื่อไหร่', 'คะ', 'เพราะ', 'มัน', 'มัน', 'เปลี่ยน', 'บ่อย', 'มาก', 'ๆๆๆ'], ['Nuttapong', 'Boonsorn', 'Nuk', 'Arroonngamwongs', 'มี', 'ปา', 'โย', 'ชน', 'ไม่', 'มาก', 'ก็', 'น้อย'], ['ใน', 'TikTok', 'Ads', 'มี', 'Catalog', 'Sales', 'ด้วย', 'เหรอ', 'ครับ'], ['ขอบ', 'คุ', 'นค', 'รับ', 'วันนี้', 'หยก', 'เรียน', 'เด', 'วง', 'หยก', 'มา', 'สอน', 'ได้'], ['ดี', 'อ่ะ'], ['Issaree', 'Boonsanong', 'น่า', 'ร้า', 'กก', 'กก', 'กก'], ['Muk', 'Karnjanapisan', 'มี', 'ปา', 'โหย', 'ดี', 'กับ', 'เจ้า', 'หรือไม่'], ['Bimbim', 'Patchrada', 'สำหรับ', 'แม่ค้า', 'มือใหม่', 'ค่ะ'], ['โอ้โฮ', 'ทาง', 'ผู้ใหญ่', 'ท่าน', 'ใด', 'ดีใจ', 'ทำให้', 'ลูกค้า', 'ขนาด', 'นี้', 'ทาง', 'เรา', 'ได้', 'ศึกษา', 'ภาพเขียน', 'และ', 'แก้ไข', 'เวปไซต์', 'ตาม', 'ที่ทาง', 'ไอ', 'ทอ', 'พลัส', 'สอน', 'มา', 'จาก', 'ความรู้', 'เดิม', 'ที่', 'เรา', 'มี', 'เพียง', 'น้อย', 'นิด', 'เรา', 'ได้', 'ทำตา', 'ทาง', 'ท่าน', 'ผู้สอน', 'อธิบาย', 'ตอนนี้', 'ความรู้', 'ของ', 'เรา', 'ความเข้าใจ', 'ของ', 'เรา', 'มี', 'ถึง', 'มากมาย', 'ดีใจ', 'มาก', 'ๆๆ', 'เพราะ', 'เรา', 'สามารถ', 'เอา', 'ความรู้', 'ของ', 'ท่าน', 'ผู้สอน', 'สอน', 'มา', 'มา', 'ปรับปรุง', 'เพิ่มเติม', 'เพื่อ', 'รายได้', 'จาก', 'ลูกค้า', 'ของ', 'เรา', 'ได้', 'มือขึ้น', 'แน่นอน', 'ฝาก', 'ขอ', 'ขอบพระคุณ', 'ทาง', 'ท่าน', 'ผู้ใหญ่', 'ของ', 'ทาง', 'Itopplus', 'ที่', 'มี', 'ความสนใจ', 'ทำให้', 'ลูกค้า', 'อย่าง', 'ดี', 'ทาง', 'เรา', 'ต้อง', 'ติดต่อ', 'กับ', 'บุคคล', 'มากมาย', 'ทาง', 'เรา', 'จะ', 'แนะนำ', 'ท่าน', 'อื่น', 'ไป', 'เป็น', 'ลูกค้า', 'กับ', 'ทาง', 'ท่าน', 'แน่นอน', 'และ', 'อีก', 'อย่าง', 'ที่', 'สำคัญ', 'ที่สุด', 'เวลา', 'ปัญหา', 'โทร', 'ไป', 'สอบถาม', 'พนักงาน', 'ของ', 'ท่าน', 'ไม่', 'ว่า', 'จะ', 'เป็น', 'คุณ', 'หนิง', 'คุณ', 'มาย', 'ได้', 'อธิบาย', 'หลาย', 'ๆๆ', 'เรื่อง', 'ที่', 'เรา', 'ปัญหา', 'และ', 'สอบถาม', 'ได้', 'อย่าง', 'กระจ่าง', 'ชัดเจน', 'และ', 'น้ำเสียง', 'สุภาพ', 'อย่าง', 'มาก', 'ใน', 'ทาง', 'ท่าน', 'ผู้ใหญ่', 'ทาง', 'นั้น', 'คง', 'ดูแล', 'มา', 'อย่าง', 'ดี', 'ใน', 'ขอ', 'ขอบพระคุณ', 'อีกครั้ง', 'ครับ'], ['ชอบ', 'บทความ', 'นี้', 'ค่ะ', 'มาก', '👏🏼\\xa0'], ['สวัสดี', 'ค่ะ', 'ไอ', 'ท้อป', 'พลัส', 'ยินดี', 'ให้บริการ', 'ไม่', 'ทราบ', 'ว่า', 'คุณ', 'ธวัช', 'สี', 'ปะ', 'โค', 'ต้องการ', 'สอบถาม', 'เกีย', 'วง', 'กับ', 'ข้อมูล', 'ด้าน', 'ใด', 'คะ', 'รบกวน', 'แจ้ง', 'รายละเอียด', 'หรือ', 'แจ้ง', 'ชื่อ', 'และ', 'เบอร์', 'ติดต่อ', 'เพื่อ', 'ที่ทาง', 'เจ้าหน้า', 'ที่', 'ได้', 'ติดต่อ', 'กลับ', 'ไป', 'เพื่อให้', 'ข้อมูล', 'เพิ่มเติม', 'ขอบคุณ', 'ค่ะ'], ['ทาง', 'เรา', 'ให้บริการ', 'ด้าน', 'จัดทำ', 'เว็บไซต์', 'และ', 'ให้บริการ', 'ด้าน', 'วางตลาด', 'ออนไลน์', 'ค่ะ'], ['สามารถ', 'เอ', 'เจ้ง', 'ชื่อ', 'เอ', 'เละ', 'เบอร์', 'โทร', 'เพื่อให้', 'ทาง', 'เจ้าหน้าที่', 'ตอบรับ', 'ได้', 'มะคะ'], ['สนใจ', 'ค่า', 'การ']]\n"
    }
   ],
   "source": [
    "#Not use in production\n",
    "#Test tokenizer\n",
    "\n",
    "list_of_list_word = []\n",
    "\n",
    "for file_sentence in word_file_2:\n",
    "    token_word = word_tokenize(file_sentence[1])\n",
    "    list_word = []\n",
    "\n",
    "    for word in token_word:\n",
    "        if word.isspace():\n",
    "            continue\n",
    "        else:\n",
    "            new_word = correct(word)\n",
    "            list_word.append(new_word)\n",
    "\n",
    "    list_of_list_word.append(list_word)\n",
    "\n",
    "    \n",
    "print(list_of_list_word)\n"
   ]
  },
  {
   "cell_type": "code",
   "execution_count": 52,
   "metadata": {
    "tags": []
   },
   "outputs": [
    {
     "output_type": "stream",
     "name": "stdout",
     "text": "{'Worawut Wutpradis\\xa0': ['Unpotential', 'เฟซปลอม โกงมือถือ แจ้งระงับไป มันบอกไม่ผิดกฏ คนด่าหยาบคายไม่ผิด พอเราจะประจานมัน เฟซมันบอกเราผิดกฏจะโดนระงับบัญชี\\xa0'], 'Hathai Chanyanupap\\xa0': ['Neutral', 'Chuda Lee อ่านได้2แผ่น แล้วเหนื่อย แต่คิดว่าดี55555\\xa0'], 'Rinma Linma Malin\\xa0': ['Neutral', 'Cho S น้องสาวอ่านอันนี้คับบบ\\xa0'], 'Porntep Seedang': ['Potential', 'ขอทราบเป็นไอดีไลน์สะดวกไหมคะ เจ้าหน้าที่โทรไลน์ไปหาค่ะ\\xa0'], 'Bumbim Poonphisa': ['Unpotential', 'รบกวนขอทราบชื่อเพจเฟสบุ๊ก ชื่อคุณลูกค้าและเบอร์ติดต่อกลับ ทางเจ้าหน้าทีจะติดต่อเข้าไป เพื่อแนะนำแพ็คเกจที่เหมาะสมกับธุรกิจ ได้ตรงตามความต้องการค่ะ\\xa0'], 'Donuttw Pinsuwan': ['Neutral', 'ค่ะ ประสานงานฝ่ายที่เกี่ยวข้องให้นะคะ\\xa0'], 'ฅนหัวโบราณ ฅนหัวโบราณ': ['Neutral', 'เรามีแพคเกจอยู่หลายแบบทั้งแบบ Business และ Ecommerce ที่สามารถขายสินค้าผ่านเว็บไซต์ได้ ไม่ทราบว่าความต้องการของท่านลูกค้าเป็นแบบไหนคะ\\xa0'], 'Nisara Mini\\xa0': ['Potential', 'Nitjawan Wianglo แน่นหน่อยแต่มีประโยชน์ เหมือนเบียร์อ่ะแหละ\\xa0'], 'Vajirawich Wongpuvarak\\xa0': ['Neutral', 'Ae Viriyasiri ยาวไปอะ เก็วโควต้าอ่านหนังสือสวดมนต์\\xa0'], 'Pairpear PairPear\\xa0': ['Neutral', 'Nat Nathaniche นัดได้วันนี้ว่าง lol\\xa0'], 'Chalatip Sakonchaijaroen': ['Potential', 'เจ้าหน้าที่จะติดต่อกลับไปตามเบอร์โทรที่แจ้งมานะคะ ขอขอบพระคุณที่สนใจบริการของ ITOPPLUS ค่ะ\\xa0'], 'Laksanakorn Sawasdikool': ['Potential', 'สำหรับ Google Marketing ทางเรามีผู้เชี่ยวชาญที่ผ่านการรับรองจาก Google ทุกคน และทางเจ้าหน้าที่ของเราจะดูแลและปรับรูปแบบโฆษณาให้เหมาะสมกับของธุรกิจลูกค้าค่ะ\\xa0'], 'Pawee Vee Kongcheep\\xa0': ['Potential', 'Lalita Chockviboonsuk สนใจไปเรียน digital marketing มั้ยล่ะ พอมีส่วนลดอยู่\\xa0'], 'นาตาชา กิจจารักษ์': ['Potential', 'การทำโฆษณาผ่านGoogle เป็นการทำการตลาดออนไลน์เพื่อเพิ่มประสิทธิภาพในธุรกิจของทางลูกค้า โดยทางเรามีผู้เชี่ยวชาญที่ผ่านการรับรองจาก Google ทุกคน และทางเจ้าหน้าที่ของเราจะปรับรูปแบบโฆษณาให้เหมาะสมกับของธุรกิจลูกค้าค่ะ\\xa0'], 'Sounlong Sreng': ['Potential', 'การทำโฆษณาผ่านGoogle เป็นการทำการตลาดออนไลน์เพื่อเพิ่มประสิทธิภาพในธุรกิจของทางลูกค้า โดยทางเรามีผู้เชี่ยวชาญที่ผ่านการรับรองจาก Google ทุกคน และทางเจ้าหน้าที่ของเราจะปรับรูปแบบโฆษณาให้เหมาะสมกับของธุรกิจลูกค้าค่ะ\\xa0'], 'แบงค์ พงศ์เทวัญ\\xa0': ['Unpotential', 'Canan Canan Canan ยาวไปไม่อ่าน\\xa0'], 'Pattanasak Sukontasit': ['Unpotential', 'สวัสดีค่ะ ไอท้อปพลัส ยินดีให้บริการ ไม่ทราบว่าคุณ Pattanasak Top Sukontasit ต้องการสอบถามเกียวกับข้อมูลด้านใดคะ รบกวนแจ้งรายละเอียด หรือแจ้งชื่อ และเบอร์ติดต่อ เพื่อที่ทางเจ้าหน้าที่จะได้ติดต่อกลับไปเพื่อให้ข้อมูลเพิ่มเติม ขอบคุณค่ะ\\xa0'], 'Wi Wisanbannawit Tzanis\\xa0': ['Neutral', 'Algorithm ของไอจีอันนี้อัฟเดตเมื่อไหร่คะ เพราะมันมันเปลี่ยนบ่อยมากๆๆๆ\\xa0'], 'Peach Buathongsri\\xa0': ['Unpotential', 'Nuttapong Boonsorn Nuk Arroonngamwongs มีปาโยช ไม่มากก็น้อย\\xa0'], 'Wiroon Khamniphat\\xa0': ['Neutral', 'ใน TikTok Ads มี Catalog Sales ด้วยเหรอครับ\\xa0'], 'Jaytiss Chayutpong\\xa0': ['Neutral', 'ขอบคุนครับ วันนี้หยกเรียน เดวหยกมาสอนได้\\xa0'], 'Thavatchai M Intharuek\\xa0': ['Potential', 'ดีอ่ะ\\xa0'], 'Bimbim Patchrada\\xa0': ['Neutral', 'Issaree Boonsanong น่าร้ากกกกกก\\xa0'], 'Paii Woranawin\\xa0': ['Potential', 'Muk Karnjanapisan มีปาโหยดกับเจ้าหรือไม่\\xa0'], 'Issaree Boonsanong\\xa0': ['Neutral', 'Bimbim Patchrada สำหรับแม่ค้ามือใหม่ค่ะ\\xa0'], 'าลัย วัน วาน\\xa0': ['Potential', 'โอ้โห ทางผู้ใหญ่ท่านใด มีใจทำให้ลูกค้าขนาดนี้ ทางเราได้ศึกษา การเขียนและแก้ไขเวปไซต์ตามที่ทางไอทอปพลัสสอนมา จากความรู้เดิม ที่เรามีเพียงน้อยนิด เราได้ทำตาม ทางท่านผู้สอนอธิบาย ตอนนี้ความรู้ ของเรา ความเข้าใจของเรา มีถึง มากมาย ดีใจมากๆ เพราะเราสามารถเอาความรู้ของท่านผู้สอน สอนมา มาปรับปรุงเพิ่มเติม เพื่อหารายได้จากลูกค้าของเราได้มากขึ้นแน่นอน ฝากขอขอบพระคุณทางท่านผู้ใหญ่ ของทาง Itopplus ที่มีความใส่ใจทำให้ลูกค้าอย่างดี ทางเรา ต้องติดต่อกับบุคคลมากมาย ทางเราจะแนะนำท่านอื่นๆ ไปเป็นลูกค้า กับทางท่านแน่นอน และอีกอย่าง ที่สำคัญที่สุด เวลามีปัญหา โทรไปสอบถาม พนักงาน ของท่าน ไม่ว่าจะเป็น คุณหนิง คุณมาย ได้อธิบาย หลายๆเรื่อง ที่เรามีปัญหา และสอบถาม ได้อย่างกระจ่างชัดเจน และน้ำเสียงสุภาพอย่างมาก (ทางท่านผู้ใหญ่ทางนั้นคงดูแลมาอย่างดี ) ขอขอบพระคุณอีกครั้งครับผม'], 'Kingpaii Chanya\\xa0': ['Potential', 'ชอบบทความนี้ค่ะ ดีมาก 👏🏼\\xa0'], 'ธวัช สีปะโค': ['Unpotential', 'สวัสดีค่ะ ไอท้อปพลัส ยินดีให้บริการ ไม่ทราบว่าคุณ ธวัช สีปะโค ต้องการสอบถามเกียวกับข้อมูลด้านใดคะ รบกวนแจ้งรายละเอียด หรือแจ้งชื่อ และเบอร์ติดต่อ เพื่อที่ทางเจ้าหน้าที่จะได้ติดต่อกลับไปเพื่อให้ข้อมูลเพิ่มเติม ขอบคุณค่ะ\\xa0'], 'Kritsana Pongsanthia': ['Neutral', 'ทางเราให้บริการด้านจัดทำเว็บไซต์และให้บริการด้านการตลาดออนไลน์ค่ะ\\xa0'], 'Jenny Pitcha': ['Neutral', 'สามารถเเจ้งชื่อเเละเบอร์โทรเพื่อให้ทางเจ้าหน้าที่ตอบกลับได้นะคะ\\xa0'], 'Oumaporn Boonsathienwong\\xa0': ['Potential', 'สนใจค่าาา\\xa0']}\n"
    }
   ],
   "source": [
    "#Not use in production\n",
    "#Customer score\n",
    "\n",
    "cus_score = []\n",
    "\n",
    "for word_order in list_of_list_word:\n",
    "    score = 0\n",
    "    for word in word_order:\n",
    "        if word in pos:\n",
    "            score += 1\n",
    "        elif word in neg:\n",
    "            score -=1\n",
    "    if score > 0:\n",
    "        status = \"Potential\"\n",
    "    elif score < 0:\n",
    "        status = \"Unpotential\"\n",
    "    else:\n",
    "        status = \"Neutral\"\n",
    "    cus_score.append(status)\n",
    "\n",
    "num = 0\n",
    "while num < len(cus_score):\n",
    "    word_file_3.update({word_file_2[num][0]:[cus_score[num],word_file_2[num][1]]})\n",
    "    num += 1\n",
    "\n",
    "print(word_file_3)"
   ]
  },
  {
   "cell_type": "code",
   "execution_count": 54,
   "metadata": {},
   "outputs": [],
   "source": [
    "#Not use in production\n",
    "#Save resule in csv\n",
    "\n",
    "with open(\"result.csv\", \"w\") as f:\n",
    "    writer = csv.DictWriter(f, fieldnames= [\"Name\",\"Result\",\"Contain\"])\n",
    "    writer.writeheader()\n",
    "    for key in word_file_3.keys():\n",
    "        f.writelines(\"%s,%s,%s\\n\"%(key, word_file_3[key][0],word_file_3[key][1]))"
   ]
  },
  {
   "cell_type": "code",
   "execution_count": 1,
   "metadata": {},
   "outputs": [],
   "source": [
    "#Customer score in function\n",
    "\n",
    "def word_interest(sentence):\n",
    "    token_word = word_tokenize(sentence)\n",
    "    list_word = []\n",
    "\n",
    "    for word in token_word:\n",
    "        if word.isspace():\n",
    "            continue\n",
    "        else:\n",
    "            new_word = correct(word)\n",
    "            list_word.append(new_word)\n",
    "\n",
    "    cus_score = []\n",
    "    pos_score = 0\n",
    "    neg_score = 0\n",
    "\n",
    "    for word in list_word:\n",
    "        if word in high_neg:\n",
    "            neg_score += 3\n",
    "        elif word in neg:\n",
    "            neg_score += 1\n",
    "        else:\n",
    "            neg_score += 0\n",
    "\n",
    "    for word in list_word:\n",
    "        if word in high_pos:\n",
    "            pos_score += 3\n",
    "        elif word in neg:\n",
    "            pos_score += 1\n",
    "        else:\n",
    "            pos_score += 0\n",
    "\n",
    "    score = 50\n",
    "\n",
    "    if pos_score != 0 or neg_score != 0:\n",
    "        score = (pos_score/(neg_score+pos_score))*100\n",
    "\n",
    "    return score"
   ]
  },
  {
   "cell_type": "code",
   "execution_count": 5,
   "metadata": {
    "tags": []
   },
   "outputs": [
    {
     "output_type": "stream",
     "name": "stdout",
     "text": "Sentence: อืม\nScore : 50\n"
    }
   ],
   "source": [
    "#Test function\n",
    "\n",
    "sentence = input(\"Input sentence\")\n",
    "\n",
    "score = word_interest(sentence)\n",
    "\n",
    "print(f\"Sentence: {sentence}\\nScore : {score}\")"
   ]
  },
  {
   "cell_type": "code",
   "execution_count": 6,
   "metadata": {},
   "outputs": [
    {
     "output_type": "execute_result",
     "data": {
      "text/plain": "'\\nif score > 0.8:\\n            status = \"High-Potential\"\\n            suggest = \"Keep Audience\"\\n        elif score > 0.6:\\n            status = \"Potential\"\\n            suggest = \"Keep Audience\"\\n        elif score > 0.4:\\n            status = \"Neutral\"\\n            suggest = \"Remove Audience\"\\n        else:\\n            status = \"Negative\"\\n            suggest = \"Remove Audience,Hidden Comment\"\\n        cus_score.append(status)  \\n\\n'"
     },
     "metadata": {},
     "execution_count": 6
    }
   ],
   "source": [
    "#not use in production\n",
    "'''\n",
    "if score > 0.8:\n",
    "            status = \"High-Potential\"\n",
    "            suggest = \"Keep Audience\"\n",
    "        elif score > 0.6:\n",
    "            status = \"Potential\"\n",
    "            suggest = \"Keep Audience\"\n",
    "        elif score > 0.4:\n",
    "            status = \"Neutral\"\n",
    "            suggest = \"Remove Audience\"\n",
    "        else:\n",
    "            status = \"Negative\"\n",
    "            suggest = \"Remove Audience,Hidden Comment\"\n",
    "        cus_score.append(status)  \n",
    "\n",
    "'''"
   ]
  },
  {
   "cell_type": "code",
   "execution_count": null,
   "metadata": {},
   "outputs": [],
   "source": []
  }
 ]
}