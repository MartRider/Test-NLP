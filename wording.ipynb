{
 "metadata": {
  "language_info": {
   "codemirror_mode": {
    "name": "ipython",
    "version": 3
   },
   "file_extension": ".py",
   "mimetype": "text/x-python",
   "name": "python",
   "nbconvert_exporter": "python",
   "pygments_lexer": "ipython3",
   "version": "3.7.6-final"
  },
  "orig_nbformat": 2,
  "kernelspec": {
   "name": "python_defaultSpec_1598281210671",
   "display_name": "Python 3.7.6 64-bit ('base': conda)"
  }
 },
 "nbformat": 4,
 "nbformat_minor": 2,
 "cells": [
  {
   "cell_type": "code",
   "execution_count": 129,
   "metadata": {},
   "outputs": [],
   "source": [
    "import numpy as np\n",
    "import pandas as pd\n",
    "from pythainlp.tokenize import word_tokenize\n",
    "from pythainlp.spell import correct"
   ]
  },
  {
   "cell_type": "code",
   "execution_count": 130,
   "metadata": {},
   "outputs": [],
   "source": [
    "word_file = pd.read_csv(\"text_test.csv\")\n",
    "\n",
    "#Negative keyword\n",
    "neg_pd = pd.read_csv(\"neg.txt\", sep = \"/n\", header = None)\n",
    "\n",
    "neg = np.array(neg_pd)\n",
    "\n",
    "#Neutral keyword\n",
    "neutral_pd = pd.read_csv(\"neutral.txt\", sep = \"/n\", header = None)\n",
    "\n",
    "neutral = np.array(neutral_pd)\n",
    "\n",
    "#Positive keyword\n",
    "pos_pd = pd.read_csv(\"pos.txt\", sep = \"/n\", header = None)\n",
    "\n",
    "pos = np.array(pos_pd)"
   ]
  },
  {
   "cell_type": "code",
   "execution_count": 131,
   "metadata": {
    "tags": []
   },
   "outputs": [
    {
     "output_type": "stream",
     "name": "stdout",
     "text": "{'Mr. Smart': 'สนใจอยากทำ ติดต่อกลับมาด้วยครับ', 'คุณเจมส์': 'สอบถามครัช ค่าบริการอยู่ที่เท่าไหร่', 'Dio': 'Kittanai Puttasitiraj สนมั้ย'}\n"
    }
   ],
   "source": [
    "word_file_2 = np.array(word_file)\n",
    "word_file_3 = dict(word_file_2)\n",
    "\n",
    "print(word_file_3)"
   ]
  },
  {
   "cell_type": "code",
   "execution_count": 132,
   "metadata": {
    "tags": []
   },
   "outputs": [
    {
     "output_type": "stream",
     "name": "stdout",
     "text": "[['สนใจ', 'อยาก', 'ทำ', 'ติดต่อ', 'กลับ', 'ด้วย', 'ครับ']]\n[['สนใจ', 'อยาก', 'ทำ', 'ติดต่อ', 'กลับ', 'ด้วย', 'ครับ'], ['สอบถาม', 'คน', 'รัช', 'ค่าบริการ', 'อยู่', 'ที่', 'เท่าไหร่']]\n[['สนใจ', 'อยาก', 'ทำ', 'ติดต่อ', 'กลับ', 'ด้วย', 'ครับ'], ['สอบถาม', 'คน', 'รัช', 'ค่าบริการ', 'อยู่', 'ที่', 'เท่าไหร่'], ['Kittanai', 'Puttasitiraj', 'สน', 'มั้ย']]\n"
    }
   ],
   "source": [
    "list_of_list_word = []\n",
    "\n",
    "for file_sentence in word_file_2:\n",
    "    token_word = word_tokenize(file_sentence[1])\n",
    "    list_word = []\n",
    "\n",
    "    for word in token_word:\n",
    "        if word.isspace():\n",
    "            continue\n",
    "        else:\n",
    "            new_word = correct(word)\n",
    "            list_word.append(new_word)\n",
    "\n",
    "    list_of_list_word.append(list_word)\n",
    "\n",
    "    \n",
    "    print(list_of_list_word)\n"
   ]
  },
  {
   "cell_type": "code",
   "execution_count": 136,
   "metadata": {
    "tags": []
   },
   "outputs": [
    {
     "output_type": "stream",
     "name": "stdout",
     "text": "{'Mr. Smart': 'Potential', 'คุณเจมส์': 'Potential', 'Dio': 'Unpotential'}\n"
    }
   ],
   "source": [
    "cus_score = []\n",
    "\n",
    "for word_order in list_of_list_word:\n",
    "    score = 0\n",
    "    for word in word_order:\n",
    "        if word in pos:\n",
    "            score += 1\n",
    "        elif word in neg:\n",
    "            score -=1\n",
    "    if score >0:\n",
    "        status = \"Potential\"\n",
    "    else:\n",
    "        status = \"Unpotential\"\n",
    "    cus_score.append(status)\n",
    "\n",
    "num = 0\n",
    "while num < len(cus_score):\n",
    "    word_file_3.update({word_file_2[num][0]:cus_score[num]})\n",
    "    num += 1\n",
    "\n",
    "print(word_file_3)"
   ]
  },
  {
   "cell_type": "code",
   "execution_count": null,
   "metadata": {},
   "outputs": [],
   "source": []
  }
 ]
}