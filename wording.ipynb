{
 "metadata": {
  "language_info": {
   "codemirror_mode": {
    "name": "ipython",
    "version": 3
   },
   "file_extension": ".py",
   "mimetype": "text/x-python",
   "name": "python",
   "nbconvert_exporter": "python",
   "pygments_lexer": "ipython3",
   "version": "3.7.6-final"
  },
  "orig_nbformat": 2,
  "kernelspec": {
   "name": "python_defaultSpec_1598515104110",
   "display_name": "Python 3.7.6 64-bit ('base': conda)"
  }
 },
 "nbformat": 4,
 "nbformat_minor": 2,
 "cells": [
  {
   "cell_type": "code",
   "execution_count": 43,
   "metadata": {},
   "outputs": [],
   "source": [
    "import numpy as np\n",
    "import pandas as pd\n",
    "from pythainlp.tokenize import word_tokenize\n",
    "from pythainlp.spell import correct\n",
    "import csv"
   ]
  },
  {
   "cell_type": "code",
   "execution_count": 44,
   "metadata": {},
   "outputs": [],
   "source": [
    "word_file = pd.read_csv(\"text_test.csv\")\n",
    "\n",
    "#Negative keyword\n",
    "neg_pd = pd.read_csv(\"neg.txt\", sep = \"/n\", header = None)\n",
    "\n",
    "neg = np.array(neg_pd)\n",
    "\n",
    "#Neutral keyword\n",
    "neutral_pd = pd.read_csv(\"neutral.txt\", sep = \"/n\", header = None)\n",
    "\n",
    "neutral = np.array(neutral_pd)\n",
    "\n",
    "#Positive keyword\n",
    "pos_pd = pd.read_csv(\"pos.txt\", sep = \"/n\", header = None)\n",
    "\n",
    "pos = np.array(pos_pd)"
   ]
  },
  {
   "cell_type": "code",
   "execution_count": 45,
   "metadata": {
    "tags": []
   },
   "outputs": [
    {
     "output_type": "stream",
     "name": "stdout",
     "text": "{'Worawut Wutpradis\\xa0': 'เฟซปลอม โกงมือถือ แจ้งระงับไป มันบอกไม่ผิดกฏ คนด่าหยาบคายไม่ผิด พอเราจะประจานมัน เฟซมันบอกเราผิดกฏจะโดนระงับบัญชี\\xa0', 'Hathai Chanyanupap\\xa0': 'Chuda Lee อ่านได้2แผ่น แล้วเหนื่อย แต่คิดว่าดี55555\\xa0', 'Rinma Linma Malin\\xa0': 'Cho S น้องสาวอ่านอันนี้คับบบ\\xa0', 'Porntep Seedang': 'สวัสดีครับ ขอสอบถามหน่อยครับ อยากให้ ในเว็บ โชว ของต่ละวันทำได้ไหมครับ', 'Bumbim Poonphisa': 'เกี่ยวกับการตลาด การยิงโฆษณา ใน facebook ค่ะ', 'Donuttw Pinsuwan': 'สวัสดีครับ ชื่อ นัท ณัฐวุฒิ ปิ่นสุวรรณเบอร์ติดต่อ 082-883-8249ขอสอบถามเรื่องสมัครงานครับ ตอนนี้มีตำแหน่งงาน AE , Digital Maketing ว่างไหมครับ สนใจสมัครตำแหน่งนี้ครับ ขอบคุณครับ', 'ฅนหัวโบราณ ฅนหัวโบราณ': 'ขอทราบรายละเอียดหน่อยครับ', 'Nisara Mini\\xa0': 'Nitjawan Wianglo แน่นหน่อยแต่มีประโยชน์ เหมือนเบียร์อ่ะแหละ\\xa0', 'Vajirawich Wongpuvarak\\xa0': 'Ae Viriyasiri ยาวไปอะ เก็วโควต้าอ่านหนังสือสวดมนต์\\xa0', 'Pairpear PairPear\\xa0': 'Nat Nathaniche นัดได้วันนี้ว่าง lol\\xa0', 'Chalatip Sakonchaijaroen': 'สร้อย0817919165', 'Laksanakorn Sawasdikool': 'สนใจคะ', 'Pawee Vee Kongcheep\\xa0': 'Lalita Chockviboonsuk สนใจไปเรียน digital marketing มั้ยล่ะ พอมีส่วนลดอยู่\\xa0', 'นาตาชา กิจจารักษ์': 'การทำโฆษณาผ่านGoogle เป็นการทำการตลาดออนไลน์เพื่อเพิ่มประสิทธิภาพในธุรกิจของทางลูกค้า โดยทางเรามีผู้เชี่ยวชาญที่ผ่านการรับรองจาก Google ทุกคน และทางเจ้าหน้าที่ของเราจะปรับรูปแบบโฆษณาให้เหมาะสมกับของธุรกิจลูกค้าค่ะ\\xa0', 'Sounlong Sreng': 'การทำโฆษณาผ่านGoogle เป็นการทำการตลาดออนไลน์เพื่อเพิ่มประสิทธิภาพในธุรกิจของทางลูกค้า โดยทางเรามีผู้เชี่ยวชาญที่ผ่านการรับรองจาก Google ทุกคน และทางเจ้าหน้าที่ของเราจะปรับรูปแบบโฆษณาให้เหมาะสมกับของธุรกิจลูกค้าค่ะ\\xa0', 'แบงค์ พงศ์เทวัญ\\xa0': 'Canan Canan Canan ยาวไปไม่อ่าน\\xa0', 'Pattanasak Sukontasit': 'ค่าเรียนยังไงบ้างครับ', 'Wi Wisanbannawit Tzanis\\xa0': 'Algorithm ของไอจีอันนี้อัฟเดตเมื่อไหร่คะ เพราะมันมันเปลี่ยนบ่อยมากๆๆๆ\\xa0', 'Peach Buathongsri\\xa0': 'Nuttapong Boonsorn Nuk Arroonngamwongs มีปาโยช ไม่มากก็น้อย\\xa0', 'Wiroon Khamniphat\\xa0': 'ใน TikTok Ads มี Catalog Sales ด้วยเหรอครับ\\xa0', 'Jaytiss Chayutpong\\xa0': 'ขอบคุนครับ วันนี้หยกเรียน เดวหยกมาสอนได้\\xa0', 'Thavatchai M Intharuek\\xa0': 'ดีอ่ะ\\xa0', 'Bimbim Patchrada\\xa0': 'Issaree Boonsanong น่าร้ากกกกกก\\xa0', 'Paii Woranawin\\xa0': 'Muk Karnjanapisan มีปาโหยดกับเจ้าหรือไม่\\xa0', 'Issaree Boonsanong\\xa0': 'Bimbim Patchrada สำหรับแม่ค้ามือใหม่ค่ะ\\xa0', 'อาลัย วัน วาน\\xa0': 'โอ้โห ทางผู้ใหญ่ท่านใด มีใจทำให้ลูกค้าขนาดนี้ ทางเราได้ศึกษา การเขียนและแก้ไขเวปไซต์ตามที่ทางไอทอปพลัสสอนมา จากความรู้เดิม ที่เรามีเพียงน้อยนิด เราได้ทำตาม ทางท่านผู้สอนอธิบาย ตอนนี้ความรู้ ของเรา ความเข้าใจของเรา มีถึง มากมาย ดีใจมากๆ เพราะเราสามารถเอาความรู้ของท่านผู้สอน สอนมา มาปรับปรุงเพิ่มเติม เพื่อหารายได้จากลูกค้าของเราได้มากขึ้นแน่นอน ฝากขอขอบพระคุณทางท่านผู้ใหญ่ ของทาง Itopplus ที่มีความใส่ใจทำให้ลูกค้าอย่างดี ทางเรา ต้องติดต่อกับบุคคลมากมาย ทางเราจะแนะนำท่านอื่นๆ ไปเป็นลูกค้า กับทางท่านแน่นอน และอีกอย่าง ที่สำคัญที่สุด เวลามีปัญหา โทรไปสอบถาม พนักงาน ของท่าน ไม่ว่าจะเป็น คุณหนิง คุณมาย ได้อธิบาย หลายๆเรื่อง ที่เรามีปัญหา และสอบถาม ได้อย่างกระจ่างชัดเจน และน้ำเสียงสุภาพอย่างมาก (ทางท่านผู้ใหญ่ทางนั้นคงดูแลมาอย่างดี ) ขอขอบพระคุณอีกครั้งครับผม', 'Kingpaii Chanya\\xa0': 'ชอบบทความนี้ค่ะ ดีมาก 👏🏼\\xa0', 'ธวัช สีปะโค': 'ไม่ครับไม่มีอะไรหรอกครับไม่ค่อยเล่นอะไรเล่นแค่เฟซทักแค่ Line แค่นั้นก็พอแล้วครับซิมรายเดือนยังไม่มีจ่ายเลยครับขอบคุณมาก', 'Kritsana Pongsanthia': 'สอบถามครับ', 'Jenny Pitcha': 'สนใจค่ะ', 'Oumaporn Boonsathienwong\\xa0': 'สนใจค่าาา\\xa0'}\n"
    }
   ],
   "source": [
    "#Create array and dictionary\n",
    "\n",
    "word_file_2 = np.array(word_file)\n",
    "\n",
    "word_file_3 = dict(word_file_2)\n",
    "\n",
    "print(word_file_3)"
   ]
  },
  {
   "cell_type": "code",
   "execution_count": 40,
   "metadata": {
    "tags": []
   },
   "outputs": [],
   "source": [
    "#Tokenizer and add to list of keyword\n",
    "\n",
    "list_of_list_word = []\n",
    "\n",
    "for file_sentence in word_file_2:\n",
    "    token_word = word_tokenize(file_sentence[1])\n",
    "    list_word = []\n",
    "\n",
    "    for word in token_word:\n",
    "        if word.isspace():\n",
    "            continue\n",
    "        else:\n",
    "            new_word = correct(word)\n",
    "            list_word.append(new_word)\n",
    "\n",
    "    list_of_list_word.append(list_word)"
   ]
  },
  {
   "cell_type": "code",
   "execution_count": 59,
   "metadata": {
    "tags": []
   },
   "outputs": [],
   "source": [
    "#Calculate potential score\n",
    "\n",
    "cus_score = []\n",
    "\n",
    "for word_order in list_of_list_word:\n",
    "    pos_score = 0\n",
    "    neg_score = 0\n",
    "    for word in word_order:\n",
    "        if word in pos:\n",
    "            pos_score += 1\n",
    "        elif word in neg:\n",
    "            neg_score +=1\n",
    "    if pos_score > 0 and neg_score == 0:\n",
    "        status = \"Potential\"\n",
    "    elif neg_score < 0 and pos_score == 0:\n",
    "        status = \"Unpotential\"\n",
    "    elif pos_score - neg_score > 3:\n",
    "        status = \"Positive\"\n",
    "    elif neg_score - pos_score >3:\n",
    "        status = \"Negative\"\n",
    "    elif pos_score - neg_score <=3:\n",
    "        status = \"Neutral_Positive\"\n",
    "    elif neg_score - pos_score <=3:\n",
    "        status = \"Neutral_Negative\"\n",
    "    else:\n",
    "        status = \"Neutral\"\n",
    "    cus_score.append(status)\n",
    "\n",
    "num = 0\n",
    "while num < len(cus_score):\n",
    "    word_file_3.update({word_file_2[num][0]:[cus_score[num],word_file_2[num][1]]})\n",
    "    num += 1"
   ]
  },
  {
   "cell_type": "code",
   "execution_count": 60,
   "metadata": {},
   "outputs": [],
   "source": [
    "with open(\"result.csv\", \"w\") as f:\n",
    "    writer = csv.DictWriter(f, fieldnames= [\"Name\",\"Result\",\"Contain\"])\n",
    "    writer.writeheader()\n",
    "    for key in word_file_3.keys():\n",
    "        f.writelines(\"%s,%s,%s\\n\"%(key, word_file_3[key][0],word_file_3[key][1]))"
   ]
  },
  {
   "cell_type": "code",
   "execution_count": null,
   "metadata": {},
   "outputs": [],
   "source": []
  }
 ]
}