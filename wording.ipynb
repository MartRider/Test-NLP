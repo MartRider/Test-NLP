{
 "metadata": {
  "language_info": {
   "codemirror_mode": {
    "name": "ipython",
    "version": 3
   },
   "file_extension": ".py",
   "mimetype": "text/x-python",
   "name": "python",
   "nbconvert_exporter": "python",
   "pygments_lexer": "ipython3",
   "version": "3.7.6-final"
  },
  "orig_nbformat": 2,
  "kernelspec": {
   "name": "python_defaultSpec_1598515104110",
   "display_name": "Python 3.7.6 64-bit ('base': conda)"
  }
 },
 "nbformat": 4,
 "nbformat_minor": 2,
 "cells": [
  {
   "cell_type": "code",
   "execution_count": 43,
   "metadata": {},
   "outputs": [],
   "source": [
    "import numpy as np\n",
    "import pandas as pd\n",
    "from pythainlp.tokenize import word_tokenize\n",
    "from pythainlp.spell import correct\n",
    "import csv"
   ]
  },
  {
   "cell_type": "code",
   "execution_count": 44,
   "metadata": {},
   "outputs": [],
   "source": [
    "word_file = pd.read_csv(\"text_test.csv\")\n",
    "\n",
    "#Negative keyword\n",
    "neg_pd = pd.read_csv(\"neg.txt\", sep = \"/n\", header = None)\n",
    "\n",
    "neg = np.array(neg_pd)\n",
    "\n",
    "#Neutral keyword\n",
    "neutral_pd = pd.read_csv(\"neutral.txt\", sep = \"/n\", header = None)\n",
    "\n",
    "neutral = np.array(neutral_pd)\n",
    "\n",
    "#Positive keyword\n",
    "pos_pd = pd.read_csv(\"pos.txt\", sep = \"/n\", header = None)\n",
    "\n",
    "pos = np.array(pos_pd)"
   ]
  },
  {
   "cell_type": "code",
   "execution_count": null,
   "metadata": {},
   "outputs": [],
   "source": []
  },
  {
   "cell_type": "code",
   "execution_count": null,
   "metadata": {},
   "outputs": [],
   "source": []
  },
  {
   "cell_type": "code",
   "execution_count": 61,
   "metadata": {
    "tags": []
   },
   "outputs": [],
   "source": [
    "#Create array and dictionary\n",
    "\n",
    "word_file_2 = np.array(word_file)\n",
    "\n",
    "word_file_3 = dict(word_file_2)"
   ]
  },
  {
   "cell_type": "code",
   "execution_count": 40,
   "metadata": {
    "tags": []
   },
   "outputs": [],
   "source": [
    "#Tokenizer and add to list of keyword\n",
    "\n",
    "list_of_list_word = []\n",
    "\n",
    "for file_sentence in word_file_2:\n",
    "    token_word = word_tokenize(file_sentence[1])\n",
    "    list_word = []\n",
    "\n",
    "    for word in token_word:\n",
    "        if word.isspace():\n",
    "            continue\n",
    "        else:\n",
    "            new_word = correct(word)\n",
    "            list_word.append(new_word)\n",
    "\n",
    "    list_of_list_word.append(list_word)"
   ]
  },
  {
   "cell_type": "code",
   "execution_count": 59,
   "metadata": {
    "tags": []
   },
   "outputs": [],
   "source": [
    "#Calculate potential score\n",
    "\n",
    "cus_score = []\n",
    "\n",
    "for word_order in list_of_list_word:\n",
    "    pos_score = 0\n",
    "    neg_score = 0\n",
    "    for word in word_order:\n",
    "        if word in pos:\n",
    "            pos_score += 1\n",
    "        elif word in neg:\n",
    "            neg_score +=1\n",
    "    if pos_score > 0 and neg_score == 0:\n",
    "        status = \"Potential\"\n",
    "    elif neg_score < 0 and pos_score == 0:\n",
    "        status = \"Unpotential\"\n",
    "    elif pos_score - neg_score > 3:\n",
    "        status = \"Positive\"\n",
    "    elif neg_score - pos_score >3:\n",
    "        status = \"Negative\"\n",
    "    elif pos_score - neg_score <=3:\n",
    "        status = \"Neutral_Positive\"\n",
    "    elif neg_score - pos_score <=3:\n",
    "        status = \"Neutral_Negative\"\n",
    "    else:\n",
    "        status = \"Neutral\"\n",
    "    cus_score.append(status)\n",
    "\n",
    "num = 0\n",
    "while num < len(cus_score):\n",
    "    word_file_3.update({word_file_2[num][0]:[cus_score[num],word_file_2[num][1]]})\n",
    "    num += 1"
   ]
  },
  {
   "cell_type": "code",
   "execution_count": 60,
   "metadata": {},
   "outputs": [],
   "source": [
    "with open(\"result.csv\", \"w\") as f:\n",
    "    writer = csv.DictWriter(f, fieldnames= [\"Name\",\"Result\",\"Contain\"])\n",
    "    writer.writeheader()\n",
    "    for key in word_file_3.keys():\n",
    "        f.writelines(\"%s,%s,%s\\n\"%(key, word_file_3[key][0],word_file_3[key][1]))"
   ]
  },
  {
   "cell_type": "code",
   "execution_count": null,
   "metadata": {},
   "outputs": [],
   "source": []
  }
 ]
}